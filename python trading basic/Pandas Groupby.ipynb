{
 "cells": [
  {
   "cell_type": "code",
   "execution_count": 1,
   "id": "e3387981",
   "metadata": {},
   "outputs": [
    {
     "data": {
      "text/html": [
       "<div>\n",
       "<style scoped>\n",
       "    .dataframe tbody tr th:only-of-type {\n",
       "        vertical-align: middle;\n",
       "    }\n",
       "\n",
       "    .dataframe tbody tr th {\n",
       "        vertical-align: top;\n",
       "    }\n",
       "\n",
       "    .dataframe thead th {\n",
       "        text-align: right;\n",
       "    }\n",
       "</style>\n",
       "<table border=\"1\" class=\"dataframe\">\n",
       "  <thead>\n",
       "    <tr style=\"text-align: right;\">\n",
       "      <th></th>\n",
       "      <th>Sector</th>\n",
       "      <th>Company</th>\n",
       "      <th>MarketCap</th>\n",
       "      <th>Share Price</th>\n",
       "      <th>Amount Invested</th>\n",
       "    </tr>\n",
       "  </thead>\n",
       "  <tbody>\n",
       "    <tr>\n",
       "      <th>0</th>\n",
       "      <td>IT</td>\n",
       "      <td>Infosys</td>\n",
       "      <td>Large Cap</td>\n",
       "      <td>1120</td>\n",
       "      <td>24000</td>\n",
       "    </tr>\n",
       "    <tr>\n",
       "      <th>1</th>\n",
       "      <td>FMCG</td>\n",
       "      <td>Dabur</td>\n",
       "      <td>Large Cap</td>\n",
       "      <td>341</td>\n",
       "      <td>16000</td>\n",
       "    </tr>\n",
       "    <tr>\n",
       "      <th>2</th>\n",
       "      <td>Finance</td>\n",
       "      <td>DHFL</td>\n",
       "      <td>Mid Cap</td>\n",
       "      <td>610</td>\n",
       "      <td>50000</td>\n",
       "    </tr>\n",
       "    <tr>\n",
       "      <th>3</th>\n",
       "      <td>Pharma</td>\n",
       "      <td>Divis Lab</td>\n",
       "      <td>Mid Cap</td>\n",
       "      <td>1123</td>\n",
       "      <td>23000</td>\n",
       "    </tr>\n",
       "    <tr>\n",
       "      <th>4</th>\n",
       "      <td>Pharma</td>\n",
       "      <td>Lupin</td>\n",
       "      <td>Mid Cap</td>\n",
       "      <td>741</td>\n",
       "      <td>45000</td>\n",
       "    </tr>\n",
       "    <tr>\n",
       "      <th>5</th>\n",
       "      <td>FMCG</td>\n",
       "      <td>Ruchira Papers</td>\n",
       "      <td>Small Cap</td>\n",
       "      <td>185</td>\n",
       "      <td>12000</td>\n",
       "    </tr>\n",
       "    <tr>\n",
       "      <th>6</th>\n",
       "      <td>FMCG</td>\n",
       "      <td>Britianna</td>\n",
       "      <td>Mid Cap</td>\n",
       "      <td>5351</td>\n",
       "      <td>52000</td>\n",
       "    </tr>\n",
       "    <tr>\n",
       "      <th>7</th>\n",
       "      <td>IT</td>\n",
       "      <td>Persistent Systems</td>\n",
       "      <td>Small Cap</td>\n",
       "      <td>720</td>\n",
       "      <td>18000</td>\n",
       "    </tr>\n",
       "    <tr>\n",
       "      <th>8</th>\n",
       "      <td>Finance</td>\n",
       "      <td>Bajaj Finance</td>\n",
       "      <td>Large Cap</td>\n",
       "      <td>1937</td>\n",
       "      <td>5000</td>\n",
       "    </tr>\n",
       "    <tr>\n",
       "      <th>9</th>\n",
       "      <td>Real Estate</td>\n",
       "      <td>DLF</td>\n",
       "      <td>Mid Cap</td>\n",
       "      <td>217</td>\n",
       "      <td>3500</td>\n",
       "    </tr>\n",
       "  </tbody>\n",
       "</table>\n",
       "</div>"
      ],
      "text/plain": [
       "        Sector             Company  MarketCap  Share Price  Amount Invested\n",
       "0           IT             Infosys  Large Cap         1120            24000\n",
       "1         FMCG               Dabur  Large Cap          341            16000\n",
       "2      Finance                DHFL    Mid Cap          610            50000\n",
       "3       Pharma           Divis Lab    Mid Cap         1123            23000\n",
       "4       Pharma               Lupin    Mid Cap          741            45000\n",
       "5         FMCG      Ruchira Papers  Small Cap          185            12000\n",
       "6         FMCG           Britianna    Mid Cap         5351            52000\n",
       "7           IT  Persistent Systems  Small Cap          720            18000\n",
       "8      Finance       Bajaj Finance  Large Cap         1937             5000\n",
       "9  Real Estate                 DLF    Mid Cap          217             3500"
      ]
     },
     "execution_count": 1,
     "metadata": {},
     "output_type": "execute_result"
    }
   ],
   "source": [
    "\n",
    "import pandas as pd\n",
    "\n",
    "my_portfolio = {'Sector': ['IT', 'FMCG', 'Finance', 'Pharma', 'Pharma',\n",
    "                           'FMCG', 'FMCG', 'IT', 'Finance', 'Real Estate'],\n",
    "\n",
    "                'Company':   ['Infosys', 'Dabur', 'DHFL', 'Divis Lab', 'Lupin',\n",
    "                              'Ruchira Papers', 'Britianna', 'Persistent Systems', 'Bajaj Finance', 'DLF'],\n",
    "\n",
    "                'MarketCap': ['Large Cap', 'Large Cap', 'Mid Cap', 'Mid Cap', 'Mid Cap',\n",
    "                              'Small Cap', 'Mid Cap', 'Small Cap', 'Large Cap', 'Mid Cap'],\n",
    "\n",
    "                'Share Price': [1120, 341, 610, 1123, 741, 185, 5351, 720, 1937, 217],\n",
    "\n",
    "                'Amount Invested': [24000, 16000, 50000, 23000, 45000, 12000, 52000, 18000, 5000, 3500]}\n",
    "df=pd.DataFrame(my_portfolio)\n",
    "df"
   ]
  },
  {
   "cell_type": "code",
   "execution_count": 2,
   "id": "32b6d258",
   "metadata": {},
   "outputs": [
    {
     "name": "stdout",
     "output_type": "stream",
     "text": [
      "{'Large Cap': [0, 1, 8], 'Mid Cap': [2, 3, 4, 6, 9], 'Small Cap': [5, 7]}\n"
     ]
    }
   ],
   "source": [
    "print(df.groupby('MarketCap').groups)"
   ]
  },
  {
   "cell_type": "code",
   "execution_count": 3,
   "id": "02eb3713",
   "metadata": {},
   "outputs": [
    {
     "name": "stdout",
     "output_type": "stream",
     "text": [
      "{'FMCG': [1, 5, 6], 'Finance': [2, 8], 'IT': [0, 7], 'Pharma': [3, 4], 'Real Estate': [9]}\n"
     ]
    }
   ],
   "source": [
    "print(df.groupby(\"Sector\").groups)"
   ]
  },
  {
   "cell_type": "code",
   "execution_count": 4,
   "id": "7889d12f",
   "metadata": {},
   "outputs": [
    {
     "name": "stdout",
     "output_type": "stream",
     "text": [
      "{('Large Cap', 'FMCG'): [1], ('Large Cap', 'Finance'): [8], ('Large Cap', 'IT'): [0], ('Mid Cap', 'FMCG'): [6], ('Mid Cap', 'Finance'): [2], ('Mid Cap', 'Pharma'): [3, 4], ('Mid Cap', 'Real Estate'): [9], ('Small Cap', 'FMCG'): [5], ('Small Cap', 'IT'): [7]}\n"
     ]
    }
   ],
   "source": [
    "print(df.groupby([\"MarketCap\",\"Sector\"]).groups)"
   ]
  },
  {
   "cell_type": "code",
   "execution_count": 5,
   "id": "aecc1834",
   "metadata": {},
   "outputs": [
    {
     "name": "stdout",
     "output_type": "stream",
     "text": [
      "Large Cap\n",
      "    Sector        Company  MarketCap  Share Price  Amount Invested\n",
      "0       IT        Infosys  Large Cap         1120            24000\n",
      "1     FMCG          Dabur  Large Cap          341            16000\n",
      "8  Finance  Bajaj Finance  Large Cap         1937             5000\n",
      "Mid Cap\n",
      "        Sector    Company MarketCap  Share Price  Amount Invested\n",
      "2      Finance       DHFL   Mid Cap          610            50000\n",
      "3       Pharma  Divis Lab   Mid Cap         1123            23000\n",
      "4       Pharma      Lupin   Mid Cap          741            45000\n",
      "6         FMCG  Britianna   Mid Cap         5351            52000\n",
      "9  Real Estate        DLF   Mid Cap          217             3500\n",
      "Small Cap\n",
      "  Sector             Company  MarketCap  Share Price  Amount Invested\n",
      "5   FMCG      Ruchira Papers  Small Cap          185            12000\n",
      "7     IT  Persistent Systems  Small Cap          720            18000\n",
      "\n",
      "\n",
      "        Sector    Company MarketCap  Share Price  Amount Invested\n",
      "2      Finance       DHFL   Mid Cap          610            50000\n",
      "3       Pharma  Divis Lab   Mid Cap         1123            23000\n",
      "4       Pharma      Lupin   Mid Cap          741            45000\n",
      "6         FMCG  Britianna   Mid Cap         5351            52000\n",
      "9  Real Estate        DLF   Mid Cap          217             3500\n"
     ]
    }
   ],
   "source": [
    "grouped=df.groupby(\"MarketCap\")\n",
    "\n",
    "for name,group in grouped:\n",
    "    print(name)\n",
    "    print(group)\n",
    "    \n",
    "print(\"\\n\")\n",
    "print(grouped.get_group(\"Mid Cap\"))"
   ]
  },
  {
   "cell_type": "code",
   "execution_count": 6,
   "id": "ddca436c",
   "metadata": {},
   "outputs": [
    {
     "name": "stdout",
     "output_type": "stream",
     "text": [
      "FMCG\n",
      "  Sector             Company  MarketCap  Share Price  Amount Invested\n",
      "5   FMCG      Ruchira Papers  Small Cap          185            12000\n",
      "7     IT  Persistent Systems  Small Cap          720            18000\n",
      "Finance\n",
      "  Sector             Company  MarketCap  Share Price  Amount Invested\n",
      "5   FMCG      Ruchira Papers  Small Cap          185            12000\n",
      "7     IT  Persistent Systems  Small Cap          720            18000\n",
      "IT\n",
      "  Sector             Company  MarketCap  Share Price  Amount Invested\n",
      "5   FMCG      Ruchira Papers  Small Cap          185            12000\n",
      "7     IT  Persistent Systems  Small Cap          720            18000\n",
      "Pharma\n",
      "  Sector             Company  MarketCap  Share Price  Amount Invested\n",
      "5   FMCG      Ruchira Papers  Small Cap          185            12000\n",
      "7     IT  Persistent Systems  Small Cap          720            18000\n",
      "Real Estate\n",
      "  Sector             Company  MarketCap  Share Price  Amount Invested\n",
      "5   FMCG      Ruchira Papers  Small Cap          185            12000\n",
      "7     IT  Persistent Systems  Small Cap          720            18000\n",
      "\n",
      "\n",
      "   Sector    Company MarketCap  Share Price  Amount Invested\n",
      "3  Pharma  Divis Lab   Mid Cap         1123            23000\n",
      "4  Pharma      Lupin   Mid Cap          741            45000\n"
     ]
    }
   ],
   "source": [
    "grouped2 = df.groupby(\"Sector\")\n",
    "\n",
    "for name, grop in grouped2:\n",
    "    print(name)\n",
    "    print(group)\n",
    "    \n",
    "\n",
    "print(\"\\n\")    \n",
    "print(grouped2.get_group(\"Pharma\"))"
   ]
  },
  {
   "cell_type": "code",
   "execution_count": 7,
   "id": "2fca9927",
   "metadata": {},
   "outputs": [
    {
     "name": "stdout",
     "output_type": "stream",
     "text": [
      "        Sector             Company  MarketCap  Share Price  Amount Invested\n",
      "0           IT             Infosys  Large Cap         1120            24000\n",
      "1         FMCG               Dabur  Large Cap          341            16000\n",
      "2      Finance                DHFL    Mid Cap          610            50000\n",
      "3       Pharma           Divis Lab    Mid Cap         1123            23000\n",
      "4       Pharma               Lupin    Mid Cap          741            45000\n",
      "5         FMCG      Ruchira Papers  Small Cap          185            12000\n",
      "6         FMCG           Britianna    Mid Cap         5351            52000\n",
      "7           IT  Persistent Systems  Small Cap          720            18000\n",
      "8      Finance       Bajaj Finance  Large Cap         1937             5000\n",
      "9  Real Estate                 DLF    Mid Cap          217             3500\n",
      "\n",
      " \n",
      "\n",
      "{'Large Cap': [0, 1, 8], 'Mid Cap': [2, 3, 4, 6, 9], 'Small Cap': [5, 7]}\n",
      "\n",
      "\n",
      "MarketCap\n",
      "Large Cap    15000.0\n",
      "Mid Cap      34700.0\n",
      "Small Cap    15000.0\n",
      "Name: Amount Invested, dtype: float64\n",
      "\n",
      "\n",
      "           Sector  Company  Share Price  Amount Invested\n",
      "MarketCap                                               \n",
      "Large Cap       3        3            3                3\n",
      "Mid Cap         5        5            5                5\n",
      "Small Cap       2        2            2                2\n",
      "\n",
      "\n",
      "              mean     sum\n",
      "MarketCap                 \n",
      "Large Cap  15000.0   45000\n",
      "Mid Cap    34700.0  173500\n",
      "Small Cap  15000.0   30000\n"
     ]
    }
   ],
   "source": [
    "import numpy as np\n",
    "my_portfolio = {'Sector': ['IT', 'FMCG', 'Finance', 'Pharma', 'Pharma',\n",
    "                           'FMCG', 'FMCG', 'IT', 'Finance', 'Real Estate'],\n",
    "\n",
    "                'Company':   ['Infosys', 'Dabur', 'DHFL', 'Divis Lab', 'Lupin',\n",
    "                              'Ruchira Papers', 'Britianna', 'Persistent Systems', 'Bajaj Finance', 'DLF'],\n",
    "\n",
    "                'MarketCap': ['Large Cap', 'Large Cap', 'Mid Cap', 'Mid Cap', 'Mid Cap',\n",
    "                              'Small Cap', 'Mid Cap', 'Small Cap', 'Large Cap', 'Mid Cap'],\n",
    "\n",
    "                'Share Price': [1120, 341, 610, 1123, 741, 185, 5351, 720, 1937, 217],\n",
    "\n",
    "                'Amount Invested': [24000, 16000, 50000, 23000, 45000, 12000, 52000, 18000, 5000, 3500]}\n",
    "\n",
    "df2=pd.DataFrame(my_portfolio)\n",
    "print(df2)\n",
    "print(\"\\n \\n\")\n",
    "\n",
    "grouped3=df2.groupby('MarketCap')\n",
    "print(grouped3.groups)\n",
    "\n",
    "print(\"\\n\")\n",
    "\n",
    "print(grouped3[\"Amount Invested\"].agg(np.mean))\n",
    "print(\"\\n\")\n",
    "\n",
    "print(grouped3.agg(np.size))\n",
    "print(\"\\n\")\n",
    "\n",
    "print(grouped3[\"Amount Invested\"].agg([np.mean,np.sum]))\n"
   ]
  },
  {
   "cell_type": "code",
   "execution_count": 10,
   "id": "0374f4e6",
   "metadata": {},
   "outputs": [
    {
     "name": "stdout",
     "output_type": "stream",
     "text": [
      "        Sector             Company  MarketCap  Share Price  Amount Invested\n",
      "0           IT             Infosys  Large Cap         1120            24000\n",
      "1         FMCG               Dabur  Large Cap          341            16000\n",
      "2      Finance                DHFL    Mid Cap          610            50000\n",
      "3       Pharma           Divis Lab    Mid Cap         1123            23000\n",
      "4       Pharma               Lupin    Mid Cap          741            45000\n",
      "5         FMCG      Ruchira Papers  Small Cap          185            12000\n",
      "6         FMCG           Britianna    Mid Cap         5351            52000\n",
      "7           IT  Persistent Systems  Small Cap          720            18000\n",
      "8      Finance       Bajaj Finance  Large Cap         1937             5000\n",
      "9  Real Estate                 DLF    Mid Cap          217             3500\n",
      "\n",
      "\n",
      "   Share Price  Amount Invested\n",
      "0    -0.015872         0.943456\n",
      "1    -0.991970         0.104828\n",
      "2    -0.471596         0.731522\n",
      "3    -0.229280        -0.559399\n",
      "4    -0.409718         0.492462\n",
      "5    -0.707107        -0.707107\n",
      "6     1.767825         0.827145\n",
      "7     0.707107         0.707107\n",
      "8     1.007841        -1.048285\n",
      "9    -0.657231        -1.491731\n"
     ]
    },
    {
     "name": "stderr",
     "output_type": "stream",
     "text": [
      "C:\\Users\\Shafee Ahmed\\AppData\\Local\\Temp\\ipykernel_5628\\3232077452.py:5: FutureWarning: Dropping invalid columns in DataFrameGroupBy.transform is deprecated. In a future version, a TypeError will be raised. Before calling .transform, select only columns which should be valid for the function.\n",
      "  print(grouped3.transform(z_score))\n"
     ]
    }
   ],
   "source": [
    "print(df2)\n",
    "print(\"\\n\")\n",
    "grouped3=df2.groupby(\"MarketCap\")\n",
    "def z_score(x) : return (x - x.mean()) / x.std()\n",
    "print(grouped3.transform(z_score))"
   ]
  },
  {
   "cell_type": "code",
   "execution_count": 12,
   "id": "14fce73a",
   "metadata": {},
   "outputs": [
    {
     "data": {
      "text/html": [
       "<div>\n",
       "<style scoped>\n",
       "    .dataframe tbody tr th:only-of-type {\n",
       "        vertical-align: middle;\n",
       "    }\n",
       "\n",
       "    .dataframe tbody tr th {\n",
       "        vertical-align: top;\n",
       "    }\n",
       "\n",
       "    .dataframe thead th {\n",
       "        text-align: right;\n",
       "    }\n",
       "</style>\n",
       "<table border=\"1\" class=\"dataframe\">\n",
       "  <thead>\n",
       "    <tr style=\"text-align: right;\">\n",
       "      <th></th>\n",
       "      <th>Sector</th>\n",
       "      <th>Company</th>\n",
       "      <th>MarketCap</th>\n",
       "      <th>Share Price</th>\n",
       "      <th>Amount Invested</th>\n",
       "    </tr>\n",
       "  </thead>\n",
       "  <tbody>\n",
       "    <tr>\n",
       "      <th>0</th>\n",
       "      <td>IT</td>\n",
       "      <td>Infosys</td>\n",
       "      <td>Large Cap</td>\n",
       "      <td>1120</td>\n",
       "      <td>24000</td>\n",
       "    </tr>\n",
       "    <tr>\n",
       "      <th>1</th>\n",
       "      <td>FMCG</td>\n",
       "      <td>Dabur</td>\n",
       "      <td>Large Cap</td>\n",
       "      <td>341</td>\n",
       "      <td>16000</td>\n",
       "    </tr>\n",
       "    <tr>\n",
       "      <th>2</th>\n",
       "      <td>Finance</td>\n",
       "      <td>DHFL</td>\n",
       "      <td>Mid Cap</td>\n",
       "      <td>610</td>\n",
       "      <td>50000</td>\n",
       "    </tr>\n",
       "    <tr>\n",
       "      <th>3</th>\n",
       "      <td>Pharma</td>\n",
       "      <td>Divis Lab</td>\n",
       "      <td>Mid Cap</td>\n",
       "      <td>1123</td>\n",
       "      <td>23000</td>\n",
       "    </tr>\n",
       "    <tr>\n",
       "      <th>4</th>\n",
       "      <td>Pharma</td>\n",
       "      <td>Lupin</td>\n",
       "      <td>Mid Cap</td>\n",
       "      <td>741</td>\n",
       "      <td>45000</td>\n",
       "    </tr>\n",
       "    <tr>\n",
       "      <th>5</th>\n",
       "      <td>FMCG</td>\n",
       "      <td>Ruchira Papers</td>\n",
       "      <td>Small Cap</td>\n",
       "      <td>185</td>\n",
       "      <td>12000</td>\n",
       "    </tr>\n",
       "    <tr>\n",
       "      <th>6</th>\n",
       "      <td>FMCG</td>\n",
       "      <td>Britianna</td>\n",
       "      <td>Mid Cap</td>\n",
       "      <td>5351</td>\n",
       "      <td>52000</td>\n",
       "    </tr>\n",
       "    <tr>\n",
       "      <th>7</th>\n",
       "      <td>IT</td>\n",
       "      <td>Persistent Systems</td>\n",
       "      <td>Small Cap</td>\n",
       "      <td>720</td>\n",
       "      <td>18000</td>\n",
       "    </tr>\n",
       "    <tr>\n",
       "      <th>8</th>\n",
       "      <td>Finance</td>\n",
       "      <td>Bajaj Finance</td>\n",
       "      <td>Large Cap</td>\n",
       "      <td>1937</td>\n",
       "      <td>5000</td>\n",
       "    </tr>\n",
       "    <tr>\n",
       "      <th>9</th>\n",
       "      <td>Real Estate</td>\n",
       "      <td>DLF</td>\n",
       "      <td>Mid Cap</td>\n",
       "      <td>217</td>\n",
       "      <td>3500</td>\n",
       "    </tr>\n",
       "  </tbody>\n",
       "</table>\n",
       "</div>"
      ],
      "text/plain": [
       "        Sector             Company  MarketCap  Share Price  Amount Invested\n",
       "0           IT             Infosys  Large Cap         1120            24000\n",
       "1         FMCG               Dabur  Large Cap          341            16000\n",
       "2      Finance                DHFL    Mid Cap          610            50000\n",
       "3       Pharma           Divis Lab    Mid Cap         1123            23000\n",
       "4       Pharma               Lupin    Mid Cap          741            45000\n",
       "5         FMCG      Ruchira Papers  Small Cap          185            12000\n",
       "6         FMCG           Britianna    Mid Cap         5351            52000\n",
       "7           IT  Persistent Systems  Small Cap          720            18000\n",
       "8      Finance       Bajaj Finance  Large Cap         1937             5000\n",
       "9  Real Estate                 DLF    Mid Cap          217             3500"
      ]
     },
     "execution_count": 12,
     "metadata": {},
     "output_type": "execute_result"
    }
   ],
   "source": [
    "df2"
   ]
  },
  {
   "cell_type": "code",
   "execution_count": 14,
   "id": "0248338d",
   "metadata": {},
   "outputs": [
    {
     "data": {
      "text/html": [
       "<div>\n",
       "<style scoped>\n",
       "    .dataframe tbody tr th:only-of-type {\n",
       "        vertical-align: middle;\n",
       "    }\n",
       "\n",
       "    .dataframe tbody tr th {\n",
       "        vertical-align: top;\n",
       "    }\n",
       "\n",
       "    .dataframe thead th {\n",
       "        text-align: right;\n",
       "    }\n",
       "</style>\n",
       "<table border=\"1\" class=\"dataframe\">\n",
       "  <thead>\n",
       "    <tr style=\"text-align: right;\">\n",
       "      <th></th>\n",
       "      <th>Company</th>\n",
       "      <th>Share Price</th>\n",
       "      <th>Amount Invested</th>\n",
       "    </tr>\n",
       "  </thead>\n",
       "  <tbody>\n",
       "    <tr>\n",
       "      <th>0</th>\n",
       "      <td>Infosys</td>\n",
       "      <td>1120</td>\n",
       "      <td>24000</td>\n",
       "    </tr>\n",
       "    <tr>\n",
       "      <th>1</th>\n",
       "      <td>Dabur</td>\n",
       "      <td>341</td>\n",
       "      <td>16000</td>\n",
       "    </tr>\n",
       "    <tr>\n",
       "      <th>2</th>\n",
       "      <td>DHFL</td>\n",
       "      <td>610</td>\n",
       "      <td>50000</td>\n",
       "    </tr>\n",
       "    <tr>\n",
       "      <th>3</th>\n",
       "      <td>Divis Lab</td>\n",
       "      <td>1123</td>\n",
       "      <td>23000</td>\n",
       "    </tr>\n",
       "    <tr>\n",
       "      <th>4</th>\n",
       "      <td>Lupin</td>\n",
       "      <td>741</td>\n",
       "      <td>45000</td>\n",
       "    </tr>\n",
       "    <tr>\n",
       "      <th>5</th>\n",
       "      <td>Ruchira Papers</td>\n",
       "      <td>185</td>\n",
       "      <td>12000</td>\n",
       "    </tr>\n",
       "    <tr>\n",
       "      <th>6</th>\n",
       "      <td>Britianna</td>\n",
       "      <td>5351</td>\n",
       "      <td>52000</td>\n",
       "    </tr>\n",
       "    <tr>\n",
       "      <th>7</th>\n",
       "      <td>Persistent Systems</td>\n",
       "      <td>720</td>\n",
       "      <td>18000</td>\n",
       "    </tr>\n",
       "    <tr>\n",
       "      <th>8</th>\n",
       "      <td>Bajaj Finance</td>\n",
       "      <td>1937</td>\n",
       "      <td>5000</td>\n",
       "    </tr>\n",
       "    <tr>\n",
       "      <th>9</th>\n",
       "      <td>DLF</td>\n",
       "      <td>217</td>\n",
       "      <td>3500</td>\n",
       "    </tr>\n",
       "  </tbody>\n",
       "</table>\n",
       "</div>"
      ],
      "text/plain": [
       "              Company  Share Price  Amount Invested\n",
       "0             Infosys         1120            24000\n",
       "1               Dabur          341            16000\n",
       "2                DHFL          610            50000\n",
       "3           Divis Lab         1123            23000\n",
       "4               Lupin          741            45000\n",
       "5      Ruchira Papers          185            12000\n",
       "6           Britianna         5351            52000\n",
       "7  Persistent Systems          720            18000\n",
       "8       Bajaj Finance         1937             5000\n",
       "9                 DLF          217             3500"
      ]
     },
     "execution_count": 14,
     "metadata": {},
     "output_type": "execute_result"
    }
   ],
   "source": [
    "df2.filter([\"Company\",\"Share Price\",\"Amount Invested\"])"
   ]
  },
  {
   "cell_type": "code",
   "execution_count": 23,
   "id": "5295628f",
   "metadata": {},
   "outputs": [
    {
     "data": {
      "text/html": [
       "<div>\n",
       "<style scoped>\n",
       "    .dataframe tbody tr th:only-of-type {\n",
       "        vertical-align: middle;\n",
       "    }\n",
       "\n",
       "    .dataframe tbody tr th {\n",
       "        vertical-align: top;\n",
       "    }\n",
       "\n",
       "    .dataframe thead th {\n",
       "        text-align: right;\n",
       "    }\n",
       "</style>\n",
       "<table border=\"1\" class=\"dataframe\">\n",
       "  <thead>\n",
       "    <tr style=\"text-align: right;\">\n",
       "      <th></th>\n",
       "      <th>Sector</th>\n",
       "      <th>Company</th>\n",
       "      <th>MarketCap</th>\n",
       "      <th>Share Price</th>\n",
       "      <th>Amount Invested</th>\n",
       "    </tr>\n",
       "  </thead>\n",
       "  <tbody>\n",
       "    <tr>\n",
       "      <th>0</th>\n",
       "      <td>IT</td>\n",
       "      <td>Infosys</td>\n",
       "      <td>Large Cap</td>\n",
       "      <td>1120</td>\n",
       "      <td>24000</td>\n",
       "    </tr>\n",
       "    <tr>\n",
       "      <th>1</th>\n",
       "      <td>FMCG</td>\n",
       "      <td>Dabur</td>\n",
       "      <td>Large Cap</td>\n",
       "      <td>341</td>\n",
       "      <td>16000</td>\n",
       "    </tr>\n",
       "    <tr>\n",
       "      <th>2</th>\n",
       "      <td>Finance</td>\n",
       "      <td>DHFL</td>\n",
       "      <td>Mid Cap</td>\n",
       "      <td>610</td>\n",
       "      <td>50000</td>\n",
       "    </tr>\n",
       "    <tr>\n",
       "      <th>3</th>\n",
       "      <td>Pharma</td>\n",
       "      <td>Divis Lab</td>\n",
       "      <td>Mid Cap</td>\n",
       "      <td>1123</td>\n",
       "      <td>23000</td>\n",
       "    </tr>\n",
       "    <tr>\n",
       "      <th>4</th>\n",
       "      <td>Pharma</td>\n",
       "      <td>Lupin</td>\n",
       "      <td>Mid Cap</td>\n",
       "      <td>741</td>\n",
       "      <td>45000</td>\n",
       "    </tr>\n",
       "    <tr>\n",
       "      <th>6</th>\n",
       "      <td>FMCG</td>\n",
       "      <td>Britianna</td>\n",
       "      <td>Mid Cap</td>\n",
       "      <td>5351</td>\n",
       "      <td>52000</td>\n",
       "    </tr>\n",
       "    <tr>\n",
       "      <th>8</th>\n",
       "      <td>Finance</td>\n",
       "      <td>Bajaj Finance</td>\n",
       "      <td>Large Cap</td>\n",
       "      <td>1937</td>\n",
       "      <td>5000</td>\n",
       "    </tr>\n",
       "    <tr>\n",
       "      <th>9</th>\n",
       "      <td>Real Estate</td>\n",
       "      <td>DLF</td>\n",
       "      <td>Mid Cap</td>\n",
       "      <td>217</td>\n",
       "      <td>3500</td>\n",
       "    </tr>\n",
       "  </tbody>\n",
       "</table>\n",
       "</div>"
      ],
      "text/plain": [
       "        Sector        Company  MarketCap  Share Price  Amount Invested\n",
       "0           IT        Infosys  Large Cap         1120            24000\n",
       "1         FMCG          Dabur  Large Cap          341            16000\n",
       "2      Finance           DHFL    Mid Cap          610            50000\n",
       "3       Pharma      Divis Lab    Mid Cap         1123            23000\n",
       "4       Pharma          Lupin    Mid Cap          741            45000\n",
       "6         FMCG      Britianna    Mid Cap         5351            52000\n",
       "8      Finance  Bajaj Finance  Large Cap         1937             5000\n",
       "9  Real Estate            DLF    Mid Cap          217             3500"
      ]
     },
     "execution_count": 23,
     "metadata": {},
     "output_type": "execute_result"
    }
   ],
   "source": [
    "df2.groupby('MarketCap').filter(lambda a: len(a)>=3)"
   ]
  },
  {
   "cell_type": "code",
   "execution_count": 31,
   "id": "30784b05",
   "metadata": {},
   "outputs": [
    {
     "data": {
      "text/html": [
       "<div>\n",
       "<style scoped>\n",
       "    .dataframe tbody tr th:only-of-type {\n",
       "        vertical-align: middle;\n",
       "    }\n",
       "\n",
       "    .dataframe tbody tr th {\n",
       "        vertical-align: top;\n",
       "    }\n",
       "\n",
       "    .dataframe thead th {\n",
       "        text-align: right;\n",
       "    }\n",
       "</style>\n",
       "<table border=\"1\" class=\"dataframe\">\n",
       "  <thead>\n",
       "    <tr style=\"text-align: right;\">\n",
       "      <th></th>\n",
       "      <th>id</th>\n",
       "      <th>Company</th>\n",
       "      <th>Sector</th>\n",
       "    </tr>\n",
       "  </thead>\n",
       "  <tbody>\n",
       "    <tr>\n",
       "      <th>0</th>\n",
       "      <td>1</td>\n",
       "      <td>Infosys</td>\n",
       "      <td>IT</td>\n",
       "    </tr>\n",
       "    <tr>\n",
       "      <th>1</th>\n",
       "      <td>2</td>\n",
       "      <td>SBI</td>\n",
       "      <td>Banks</td>\n",
       "    </tr>\n",
       "    <tr>\n",
       "      <th>2</th>\n",
       "      <td>3</td>\n",
       "      <td>Asian Paints</td>\n",
       "      <td>Paints and Varnishes</td>\n",
       "    </tr>\n",
       "    <tr>\n",
       "      <th>3</th>\n",
       "      <td>4</td>\n",
       "      <td>Maruti</td>\n",
       "      <td>Auto</td>\n",
       "    </tr>\n",
       "    <tr>\n",
       "      <th>4</th>\n",
       "      <td>5</td>\n",
       "      <td>Sun Pharma</td>\n",
       "      <td>Pharma</td>\n",
       "    </tr>\n",
       "  </tbody>\n",
       "</table>\n",
       "</div>"
      ],
      "text/plain": [
       "   id       Company                Sector\n",
       "0   1       Infosys                    IT\n",
       "1   2           SBI                 Banks\n",
       "2   3  Asian Paints  Paints and Varnishes\n",
       "3   4        Maruti                  Auto\n",
       "4   5    Sun Pharma                Pharma"
      ]
     },
     "execution_count": 31,
     "metadata": {},
     "output_type": "execute_result"
    }
   ],
   "source": [
    "left_df = pd.DataFrame({\n",
    "    'id': [1, 2, 3, 4, 5],\n",
    "    'Company': ['Infosys', 'SBI', 'Asian Paints', 'Maruti', 'Sun Pharma'],\n",
    "    'Sector': ['IT', 'Banks', 'Paints and Varnishes', 'Auto', 'Pharma']})\n",
    "\n",
    "right_df = pd.DataFrame(\n",
    "    {'id': [1, 2, 3, 4, 5],\n",
    "     'Company': ['NTPC', 'TCS', 'Lupin', 'ICICI', 'M&M'],\n",
    "     'Sector': ['Power', 'IT', 'Pharma', 'Banks', 'Auto']})\n",
    "\n",
    "\n",
    "left_df"
   ]
  },
  {
   "cell_type": "code",
   "execution_count": 33,
   "id": "db875718",
   "metadata": {},
   "outputs": [
    {
     "data": {
      "text/html": [
       "<div>\n",
       "<style scoped>\n",
       "    .dataframe tbody tr th:only-of-type {\n",
       "        vertical-align: middle;\n",
       "    }\n",
       "\n",
       "    .dataframe tbody tr th {\n",
       "        vertical-align: top;\n",
       "    }\n",
       "\n",
       "    .dataframe thead th {\n",
       "        text-align: right;\n",
       "    }\n",
       "</style>\n",
       "<table border=\"1\" class=\"dataframe\">\n",
       "  <thead>\n",
       "    <tr style=\"text-align: right;\">\n",
       "      <th></th>\n",
       "      <th>id</th>\n",
       "      <th>Company</th>\n",
       "      <th>Sector</th>\n",
       "    </tr>\n",
       "  </thead>\n",
       "  <tbody>\n",
       "    <tr>\n",
       "      <th>0</th>\n",
       "      <td>1</td>\n",
       "      <td>NTPC</td>\n",
       "      <td>Power</td>\n",
       "    </tr>\n",
       "    <tr>\n",
       "      <th>1</th>\n",
       "      <td>2</td>\n",
       "      <td>TCS</td>\n",
       "      <td>IT</td>\n",
       "    </tr>\n",
       "    <tr>\n",
       "      <th>2</th>\n",
       "      <td>3</td>\n",
       "      <td>Lupin</td>\n",
       "      <td>Pharma</td>\n",
       "    </tr>\n",
       "    <tr>\n",
       "      <th>3</th>\n",
       "      <td>4</td>\n",
       "      <td>ICICI</td>\n",
       "      <td>Banks</td>\n",
       "    </tr>\n",
       "    <tr>\n",
       "      <th>4</th>\n",
       "      <td>5</td>\n",
       "      <td>M&amp;M</td>\n",
       "      <td>Auto</td>\n",
       "    </tr>\n",
       "  </tbody>\n",
       "</table>\n",
       "</div>"
      ],
      "text/plain": [
       "   id Company  Sector\n",
       "0   1    NTPC   Power\n",
       "1   2     TCS      IT\n",
       "2   3   Lupin  Pharma\n",
       "3   4   ICICI   Banks\n",
       "4   5     M&M    Auto"
      ]
     },
     "execution_count": 33,
     "metadata": {},
     "output_type": "execute_result"
    }
   ],
   "source": [
    "right_df"
   ]
  },
  {
   "cell_type": "code",
   "execution_count": 36,
   "id": "586b2c84",
   "metadata": {},
   "outputs": [
    {
     "name": "stdout",
     "output_type": "stream",
     "text": [
      "   id     Company_x              Sector_x Company_y Sector_y\n",
      "0   1       Infosys                    IT      NTPC    Power\n",
      "1   2           SBI                 Banks       TCS       IT\n",
      "2   3  Asian Paints  Paints and Varnishes     Lupin   Pharma\n",
      "3   4        Maruti                  Auto     ICICI    Banks\n",
      "4   5    Sun Pharma                Pharma       M&M     Auto\n"
     ]
    }
   ],
   "source": [
    "print(pd.merge(left_df,right_df, on ='id'))"
   ]
  },
  {
   "cell_type": "code",
   "execution_count": 38,
   "id": "4368c76b",
   "metadata": {},
   "outputs": [
    {
     "name": "stdout",
     "output_type": "stream",
     "text": [
      "   id_x   Company_x  Sector  id_y Company_y\n",
      "0     1     Infosys      IT     2       TCS\n",
      "1     2         SBI   Banks     4     ICICI\n",
      "2     4      Maruti    Auto     5       M&M\n",
      "3     5  Sun Pharma  Pharma     3     Lupin\n"
     ]
    }
   ],
   "source": [
    "print(pd.merge(left_df,right_df, on =\"Sector\"))"
   ]
  },
  {
   "cell_type": "code",
   "execution_count": 41,
   "id": "f1b5b4e6",
   "metadata": {},
   "outputs": [
    {
     "name": "stdout",
     "output_type": "stream",
     "text": [
      "   id_x   Company_x  Sector  id_y Company_y\n",
      "0     1     Infosys      IT     2       TCS\n",
      "1     2         SBI   Banks     4     ICICI\n",
      "2     4      Maruti    Auto     5       M&M\n",
      "3     5  Sun Pharma  Pharma     3     Lupin\n"
     ]
    }
   ],
   "source": [
    "print(pd.merge(left_df,right_df,on=\"Sector\",  how=\"inner\"))"
   ]
  },
  {
   "cell_type": "code",
   "execution_count": 43,
   "id": "2442fb59",
   "metadata": {},
   "outputs": [
    {
     "name": "stdout",
     "output_type": "stream",
     "text": [
      "   id       Company                Sector\n",
      "0   1       Infosys                    IT\n",
      "1   2           SBI                 Banks\n",
      "2   3  Asian Paints  Paints and Varnishes\n",
      "3   4        Maruti                  Auto\n",
      "4   5    Sun Pharma                Pharma\n",
      "0   1          NTPC                 Power\n",
      "1   2           TCS                    IT\n",
      "2   3         Lupin                Pharma\n",
      "3   4         ICICI                 Banks\n",
      "4   5           M&M                  Auto\n"
     ]
    }
   ],
   "source": [
    "print(pd.concat([left_df,right_df]))"
   ]
  },
  {
   "cell_type": "code",
   "execution_count": 50,
   "id": "c2103e49",
   "metadata": {},
   "outputs": [
    {
     "name": "stdout",
     "output_type": "stream",
     "text": [
      "     id       Company                Sector\n",
      "x 0   1       Infosys                    IT\n",
      "  1   2           SBI                 Banks\n",
      "  2   3  Asian Paints  Paints and Varnishes\n",
      "  3   4        Maruti                  Auto\n",
      "  4   5    Sun Pharma                Pharma\n",
      "y 0   1          NTPC                 Power\n",
      "  1   2           TCS                    IT\n",
      "  2   3         Lupin                Pharma\n",
      "  3   4         ICICI                 Banks\n",
      "  4   5           M&M                  Auto\n"
     ]
    }
   ],
   "source": [
    "print(pd.concat([left_df,right_df],keys=['x','y']))"
   ]
  },
  {
   "cell_type": "code",
   "execution_count": 52,
   "id": "66e2a77f",
   "metadata": {},
   "outputs": [
    {
     "name": "stdout",
     "output_type": "stream",
     "text": [
      "   id       Company                Sector\n",
      "0   1       Infosys                    IT\n",
      "1   2           SBI                 Banks\n",
      "2   3  Asian Paints  Paints and Varnishes\n",
      "3   4        Maruti                  Auto\n",
      "4   5    Sun Pharma                Pharma\n",
      "5   1          NTPC                 Power\n",
      "6   2           TCS                    IT\n",
      "7   3         Lupin                Pharma\n",
      "8   4         ICICI                 Banks\n",
      "9   5           M&M                  Auto\n"
     ]
    }
   ],
   "source": [
    "print(pd.concat([left_df,right_df],ignore_index=True))"
   ]
  },
  {
   "cell_type": "code",
   "execution_count": 54,
   "id": "130249ac",
   "metadata": {},
   "outputs": [
    {
     "name": "stdout",
     "output_type": "stream",
     "text": [
      "   id       Company                Sector  id Company  Sector\n",
      "0   1       Infosys                    IT   1    NTPC   Power\n",
      "1   2           SBI                 Banks   2     TCS      IT\n",
      "2   3  Asian Paints  Paints and Varnishes   3   Lupin  Pharma\n",
      "3   4        Maruti                  Auto   4   ICICI   Banks\n",
      "4   5    Sun Pharma                Pharma   5     M&M    Auto\n"
     ]
    }
   ],
   "source": [
    "print(pd.concat([left_df,right_df],axis=1))"
   ]
  },
  {
   "cell_type": "code",
   "execution_count": 55,
   "id": "23e11567",
   "metadata": {},
   "outputs": [
    {
     "name": "stdout",
     "output_type": "stream",
     "text": [
      "   id       Company                Sector\n",
      "0   1       Infosys                    IT\n",
      "1   2           SBI                 Banks\n",
      "2   3  Asian Paints  Paints and Varnishes\n",
      "3   4        Maruti                  Auto\n",
      "4   5    Sun Pharma                Pharma\n",
      "0   1          NTPC                 Power\n",
      "1   2           TCS                    IT\n",
      "2   3         Lupin                Pharma\n",
      "3   4         ICICI                 Banks\n",
      "4   5           M&M                  Auto\n"
     ]
    },
    {
     "name": "stderr",
     "output_type": "stream",
     "text": [
      "C:\\Users\\Shafee Ahmed\\AppData\\Local\\Temp\\ipykernel_5628\\2051636441.py:1: FutureWarning: The frame.append method is deprecated and will be removed from pandas in a future version. Use pandas.concat instead.\n",
      "  print(left_df.append(right_df))\n"
     ]
    }
   ],
   "source": [
    "print(left_df.append(right_df))"
   ]
  }
 ],
 "metadata": {
  "kernelspec": {
   "display_name": "Python 3 (ipykernel)",
   "language": "python",
   "name": "python3"
  },
  "language_info": {
   "codemirror_mode": {
    "name": "ipython",
    "version": 3
   },
   "file_extension": ".py",
   "mimetype": "text/x-python",
   "name": "python",
   "nbconvert_exporter": "python",
   "pygments_lexer": "ipython3",
   "version": "3.10.5"
  }
 },
 "nbformat": 4,
 "nbformat_minor": 5
}
