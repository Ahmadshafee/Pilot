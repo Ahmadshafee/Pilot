{
 "cells": [
  {
   "cell_type": "code",
   "execution_count": 2,
   "id": "65cc5598",
   "metadata": {},
   "outputs": [],
   "source": [
    "import numpy as np\n",
    "import pandas as pd"
   ]
  },
  {
   "cell_type": "code",
   "execution_count": 20,
   "id": "b91ec801",
   "metadata": {
    "scrolled": true
   },
   "outputs": [
    {
     "name": "stdout",
     "output_type": "stream",
     "text": [
      "{'name': ['joe', 'smith', 'ram'], 'year': [2012, 1987, 1990], 'marks': [32, 45, 56]}\n",
      "    name  year  marks\n",
      "0    joe  2012     32\n",
      "1  smith  1987     45\n",
      "2    ram  1990     56\n",
      "44.333333333333336\n"
     ]
    }
   ],
   "source": [
    "studata={\"name\":[\"joe\",\"smith\",\"ram\"],\"year\":[2012,1987,1990],\"marks\":[32,45,56]}\n",
    "print(studata)\n",
    "studata_df=pd.DataFrame(studata)\n",
    "print(studata_df)\n",
    "stumean=np.mean(studata_df.marks)\n",
    "print(stumean)\n",
    "\n",
    "\n"
   ]
  },
  {
   "cell_type": "code",
   "execution_count": 27,
   "id": "a4bd8aef",
   "metadata": {},
   "outputs": [
    {
     "name": "stdout",
     "output_type": "stream",
     "text": [
      "(2, 2)\n"
     ]
    }
   ],
   "source": [
    "a=np.array([[111,222],\n",
    "            [333,444]])\n",
    "np.ndim(a)\n",
    "print(a.shape)"
   ]
  },
  {
   "cell_type": "code",
   "execution_count": 29,
   "id": "f4762b39",
   "metadata": {},
   "outputs": [
    {
     "name": "stdout",
     "output_type": "stream",
     "text": [
      "[[[111 222]\n",
      "  [333 444]]\n",
      "\n",
      " [[555 666]\n",
      "  [777 888]]\n",
      "\n",
      " [[999 567]\n",
      "  [786 765]]]\n",
      "(3, 2, 2)\n"
     ]
    }
   ],
   "source": [
    "a1=np.array([[[111,222],[333,444]],[[555,666],[777,888]],[[999,567],[786,765]]])\n",
    "print(a1)\n",
    "np.ndim(a1)\n",
    "print(a1.shape)\n"
   ]
  },
  {
   "cell_type": "code",
   "execution_count": 31,
   "id": "8ea84b26",
   "metadata": {},
   "outputs": [
    {
     "name": "stdout",
     "output_type": "stream",
     "text": [
      "[['00' '01' '02' '03' '04']\n",
      " ['10' '11' '12' '13' '14']\n",
      " ['20' '21' '22' '23' '24']\n",
      " ['30' '31' '32' '33' '34']\n",
      " ['40' '41' '42' '43' '44']]\n"
     ]
    }
   ],
   "source": [
    "A = np.array([\n",
    "    [\"00\", \"01\", \"02\", \"03\", \"04\"],\n",
    "    [10, 11, 12, 13, 14],\n",
    "    [20, 21, 22, 23, 24],\n",
    "    [30, 31, 32, 33, 34],\n",
    "    [40, 41, 42, 43, 44]\n",
    "])\n",
    "\n",
    "print(A)"
   ]
  },
  {
   "cell_type": "code",
   "execution_count": 40,
   "id": "fd9a1cf2",
   "metadata": {},
   "outputs": [
    {
     "name": "stdout",
     "output_type": "stream",
     "text": [
      "[['00' '01' '02' '03' '04']\n",
      " ['10' '11' '12' '13' '14']\n",
      " ['20' '21' '22' '23' '24']]\n",
      "[['00' '01' '02']\n",
      " ['10' '11' '12']\n",
      " ['20' '21' '22']\n",
      " ['30' '31' '32']\n",
      " ['40' '41' '42']]\n",
      "[['00' '01' '02' '03']\n",
      " ['10' '11' '12' '13']\n",
      " ['20' '21' '22' '23']\n",
      " ['30' '31' '32' '33']]\n"
     ]
    }
   ],
   "source": [
    "print(A[0:3])\n",
    "print(A[:,0:3])\n",
    "\n",
    "print(A[0:4,0:4])"
   ]
  },
  {
   "cell_type": "code",
   "execution_count": 42,
   "id": "04ddb14b",
   "metadata": {},
   "outputs": [
    {
     "name": "stdout",
     "output_type": "stream",
     "text": [
      "[['00' '01' '02' '03' '04']\n",
      " ['20' '21' '22' '23' '24']\n",
      " ['40' '41' '42' '43' '44']]\n"
     ]
    }
   ],
   "source": [
    "print(A[::2])"
   ]
  },
  {
   "cell_type": "code",
   "execution_count": 46,
   "id": "87c6ef84",
   "metadata": {},
   "outputs": [
    {
     "name": "stdout",
     "output_type": "stream",
     "text": [
      "[['01' '03']\n",
      " ['11' '13']\n",
      " ['21' '23']\n",
      " ['31' '33']\n",
      " ['41' '43']]\n"
     ]
    }
   ],
   "source": [
    "print(A[:,1:4:2])"
   ]
  },
  {
   "cell_type": "code",
   "execution_count": 50,
   "id": "239edd3f",
   "metadata": {},
   "outputs": [
    {
     "name": "stdout",
     "output_type": "stream",
     "text": [
      "[42  1  2  3  4  5  6  7  8  9 10 11]\n",
      "[[42  1  2  3]\n",
      " [ 4  5  6  7]\n",
      " [ 8  9 10 11]]\n"
     ]
    }
   ],
   "source": [
    "A = np.arange(12)\n",
    "B = A.reshape(3, 4)\n",
    "\n",
    "A[0] = 42\n",
    "print(A)\n",
    "print(B)"
   ]
  }
 ],
 "metadata": {
  "kernelspec": {
   "display_name": "Python 3 (ipykernel)",
   "language": "python",
   "name": "python3"
  },
  "language_info": {
   "codemirror_mode": {
    "name": "ipython",
    "version": 3
   },
   "file_extension": ".py",
   "mimetype": "text/x-python",
   "name": "python",
   "nbconvert_exporter": "python",
   "pygments_lexer": "ipython3",
   "version": "3.10.5"
  }
 },
 "nbformat": 4,
 "nbformat_minor": 5
}
